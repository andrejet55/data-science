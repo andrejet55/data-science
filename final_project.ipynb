{
 "cells": [
  {
   "cell_type": "markdown",
   "metadata": {},
   "source": [
    "# 2024S AML 1114 1 [B230] Data Science and Machine Learning\n",
    "## Final Project - Heart Disease EDA\n",
    "\n",
    "**Group members:**\n",
    "* Andrea Franco (C0931897)\n",
    "* Andres Salguero ( )\n",
    "* Pallavi\n",
    "* Uma"
   ]
  },
  {
   "cell_type": "code",
   "execution_count": null,
   "metadata": {},
   "outputs": [],
   "source": []
  }
 ],
 "metadata": {
  "language_info": {
   "name": "python"
  }
 },
 "nbformat": 4,
 "nbformat_minor": 2
}
